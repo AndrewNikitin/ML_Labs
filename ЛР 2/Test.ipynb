{
 "cells": [
  {
   "cell_type": "markdown",
   "metadata": {},
   "source": [
    "### Сравнение собственной реализации SVM и готовой реализации из библиотеки scikit-learn\n",
    "\n",
    "Сравним две реализации метода опорных векторов. Сравнения будут проводится на датасетах из 0-ой лабораторной работы. В качестве метрики качества возьмем точность - отношение правильных ответов к количеству всех элементов в тестовой выорки, также рассмотрим время обучения. Для этого определим функцию test_classifier\n",
    "    "
   ]
  },
  {
   "cell_type": "code",
   "execution_count": 1,
   "metadata": {},
   "outputs": [],
   "source": [
    "from time import time\n",
    "from sklearn.metrics import accuracy_score\n",
    "\n",
    "def test_classifier(cls, X_train, y_train, X_test, y_test):\n",
    "    start = time()\n",
    "    cls.fit(X_train, y_train)\n",
    "    end = time()\n",
    "    y_pred = cls.predict(X_test)\n",
    "    print(\"Time:\", end - start)\n",
    "    print(\"Accuracy:\", accuracy_score(y_true=y_test, y_pred=y_pred))"
   ]
  },
  {
   "cell_type": "markdown",
   "metadata": {},
   "source": [
    "Перед тестированием алгоритмов на первом датасете необходимо выполнить его предобработку. Так как метод опорных векторов, как и другие линейные классификаторы чувствительны к масштабу признаков, необходимо провести нормализацию - вычесть среднее и поделить на дисперсию. Так как датасет довольно большой, возьмем только часть записей: "
   ]
  },
  {
   "cell_type": "code",
   "execution_count": 4,
   "metadata": {},
   "outputs": [],
   "source": [
    "import pandas as pd\n",
    "import numpy as np\n",
    "from sklearn.preprocessing import StandardScaler\n",
    "from sklearn.model_selection import train_test_split\n",
    "\n",
    "data = pd.read_csv('diamonds.csv', index_col=\"index\")[:5000]\n",
    "# Выделение целевой переменной\n",
    "y = data['price'].to_numpy()\n",
    "del data['price']\n",
    "# Выделение матрицы объект-признак и масштабирование\n",
    "scaler = StandardScaler()\n",
    "X = scaler.fit_transform(data.values)\n",
    "# Разбиение на обучающую и тестовую выборки\n",
    "X_train, X_test, y_train, y_test = train_test_split(X, y, test_size=0.2, random_state=126)"
   ]
  },
  {
   "cell_type": "markdown",
   "metadata": {},
   "source": [
    "Результат тестирования первой реализации:"
   ]
  },
  {
   "cell_type": "code",
   "execution_count": 5,
   "metadata": {},
   "outputs": [
    {
     "name": "stdout",
     "output_type": "stream",
     "text": [
      "Time: 12.251717329025269\n",
      "Accuracy: 0.785\n"
     ]
    }
   ],
   "source": [
    "from SupportVectorMachine import SupportVectorClassifier\n",
    "\n",
    "model = SupportVectorClassifier(C=1.0, max_iterations=10000, tolerance=0.001)\n",
    "test_classifier(model, X_train, y_train, X_test, y_test)"
   ]
  },
  {
   "cell_type": "markdown",
   "metadata": {},
   "source": [
    "Результат тестирования второй реализации:"
   ]
  },
  {
   "cell_type": "code",
   "execution_count": 7,
   "metadata": {},
   "outputs": [
    {
     "name": "stdout",
     "output_type": "stream",
     "text": [
      "Time: 0.399141788482666\n",
      "Accuracy: 0.81\n"
     ]
    }
   ],
   "source": [
    "from sklearn.svm import SVC\n",
    "\n",
    "model = SVC(C=1.0, kernel='linear', tol=0.001)\n",
    "test_classifier(model, X_train, y_train, X_test, y_test)"
   ]
  },
  {
   "cell_type": "markdown",
   "metadata": {},
   "source": [
    "Как видно, моя реализация сильно уступает во времени обучения и немного в точности. Длительное время выполнения на довольно малой части датасета связано скорее всего с упрощениями в реализации алгоритма оптимизации. Не использовались некоторые эвристики выбора элементов на каждой итерации, а также не эффективный пересчет весов (В данном случае, можно было воспользоваться линейностью ядра, и обновлять веса, а не пересчитывать их заного)\n",
    "\n",
    "Рассмотрим, как поведет себя SVM в случае классификации документов. Данная задача примечательно тем, что размерность пространства объектов гораздо больше их количества. Подготовим данные для тестирования"
   ]
  },
  {
   "cell_type": "code",
   "execution_count": null,
   "metadata": {},
   "outputs": [],
   "source": [
    "from sklearn.datasets import fetch_20newsgroups\n",
    "from sklearn.feature_extraction.text import CountVectorizer\n",
    "\n",
    "targets = ['comp.graphics', 'rec.autos']\n",
    "documents = fetch_20newsgroups(data_home='./', subset='all', categories=targets)\n",
    "\n",
    "documents.target[documents.target == 0] = -1\n",
    "y = documents.target[:100]\n",
    "\n",
    "vectorizer = CountVectorizer()\n",
    "X = vectorizer.fit_transform(documents.data[:100]).toarray()\n",
    "X_train, X_test, y_train, y_test = train_test_split(X, y, test_size=0.2, random_state=126)"
   ]
  },
  {
   "cell_type": "code",
   "execution_count": 14,
   "metadata": {},
   "outputs": [
    {
     "name": "stdout",
     "output_type": "stream",
     "text": [
      "Time: 1403.578275680542\n",
      "Accuracy: 0.9363867684478372\n"
     ]
    }
   ],
   "source": [
    "model = SupportVectorClassifier(C=1.0, max_iterations=10000, tolerance=0.01)\n",
    "test_classifier(model, X_train, y_train, X_test, y_test)"
   ]
  },
  {
   "cell_type": "code",
   "execution_count": 13,
   "metadata": {},
   "outputs": [
    {
     "name": "stdout",
     "output_type": "stream",
     "text": [
      "Time: 33.042667627334595\n",
      "Accuracy: 0.9720101781170484\n"
     ]
    }
   ],
   "source": [
    "model = SVC(C=1.0, kernel='linear', tol=0.001)\n",
    "test_classifier(model, X_train, y_train, X_test, y_test)"
   ]
  },
  {
   "cell_type": "markdown",
   "metadata": {},
   "source": [
    "Не смотря на малое количество документов, обучение проходит действительно долго из-за большой размерности пространства. И разница во времени работы становится уже критичным показателем"
   ]
  },
  {
   "cell_type": "markdown",
   "metadata": {},
   "source": [
    "### Полиномиальная регрессия\n",
    "\n"
   ]
  },
  {
   "cell_type": "code",
   "execution_count": 10,
   "metadata": {},
   "outputs": [
    {
     "name": "stdout",
     "output_type": "stream",
     "text": [
      "MSE: 552879.9211515883\n",
      "[ 2496   906  6529   796  1444  3145  3326   936   777 12835]\n",
      "[ 2678   717  6947   726  1715  3492  3380   847   679 11640]\n"
     ]
    }
   ],
   "source": [
    "import pandas as pd\n",
    "import numpy as np\n",
    "from sklearn.metrics import mean_squared_error\n",
    "from sklearn.model_selection import train_test_split\n",
    "\n",
    "data = pd.read_csv('diamonds.csv', index_col=\"index\")\n",
    "del data['price']\n",
    "\n",
    "X = data.values\n",
    "# Столбец цен для задачи регрессии\n",
    "y = pd.read_csv('prices.csv', index_col='index')['price'].to_numpy()\n",
    "\n",
    "X_train, X_test, y_train, y_test = train_test_split(X, y, test_size=0.2, random_state=126)\n",
    "\n",
    "from PolynomialRegression import PolynomialRegression\n",
    "\n",
    "reg = PolynomialRegression(3)\n",
    "reg.fit(X_train, y_train)\n",
    "y_pred = reg.predict(X_test)\n",
    "\n",
    "print(\"MSE:\", mean_squared_error(y_test, y_pred))\n",
    "print(y_pred[:10].astype(int))\n",
    "print(y_test[:10])"
   ]
  },
  {
   "cell_type": "markdown",
   "metadata": {},
   "source": [
    "При использовании всей выборки была получена огромная ошибка при тестировании, однако полученные значения довольно близки к реальным данным, хотя на отдельных примерах разница слишком высока)"
   ]
  },
  {
   "cell_type": "code",
   "execution_count": null,
   "metadata": {},
   "outputs": [],
   "source": []
  }
 ],
 "metadata": {
  "kernelspec": {
   "display_name": "Python 3",
   "language": "python",
   "name": "python3"
  },
  "language_info": {
   "codemirror_mode": {
    "name": "ipython",
    "version": 3
   },
   "file_extension": ".py",
   "mimetype": "text/x-python",
   "name": "python",
   "nbconvert_exporter": "python",
   "pygments_lexer": "ipython3",
   "version": "3.6.7"
  }
 },
 "nbformat": 4,
 "nbformat_minor": 2
}
